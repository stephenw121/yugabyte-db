{
 "cells": [
  {
   "cell_type": "markdown",
   "metadata": {},
   "source": [
    "# High Availability Workflows\n",
    "This notebook covers a lot of the core workflows to setup and manage YBA in a High Availability configuration.\n",
    "\n",
    "### Setup\n",
    "\n",
    "First, import the required packages.\n",
    "\n",
    "Next, specify some important variables:\n",
    "* `platform_api_key`: The API key used to authenticate with the active YBA \n",
    "* `standby_api_key`: The API key used to authenticate with the standby YBA \n",
    "* `platform_address`: The address of the active YBA API\n",
    "* `standby_address`: The address of the standby YBA API\n",
    "\n",
    "\n",
    "Finally, open a HTTP connection to both the active and standby YBA."
   ]
  },
  {
   "cell_type": "code",
   "execution_count": null,
   "metadata": {},
   "outputs": [],
   "source": [
    "import http.client\n",
    "import json\n",
    "import os\n",
    "from pprint import pprint\n",
    "\n",
    "platform_api_key = os.getenv('YB_API_KEY')\n",
    "standby_api_key = os.getenv('YB_STANDBY_API_KEY')\n",
    "platform_address = os.getenv('API_BASE_URL')\n",
    "standby_address = os.getenv('API_STANDBY_URL')\n",
    "conn = http.client.HTTPSConnection(f\"{platform_address}\", context=http.client.ssl._create_unverified_context())\n",
    "standby_conn = http.client.HTTPSConnection(f\"{standby_address}\", context=http.client.ssl._create_unverified_context())\n",
    "\n",
    "headers = {\n",
    "  'Content-Type': \"application/json\",\n",
    "  'X-AUTH-YW-API-TOKEN': f\"{platform_api_key}\"\n",
    "}\n",
    "session_info_url = \"/api/v1/session_info\"\n",
    "\n",
    "conn.request(\"GET\", session_info_url, headers=headers)\n",
    "session_info = json.loads(conn.getresponse().read())\n",
    "pprint(session_info)\n",
    "customer_uuid = session_info['customerUUID']\n",
    "\n",
    "standby_headers = {\n",
    "  'Content-Type': \"application/json\",\n",
    "  'X-AUTH-YW-API-TOKEN': f\"{standby_api_key}\"\n",
    "}\n",
    "standby_conn.request(\"GET\", session_info_url, headers=standby_headers)\n",
    "pprint(json.loads(standby_conn.getresponse().read()))"
   ]
  },
  {
   "cell_type": "markdown",
   "metadata": {},
   "source": [
    "### Certificate Setup\n",
    "This section details how to add the CA certificate of both the active and standby YBA to the active YBA's trust store. This will be used to make requests from the active to the standby. These certificates will also be transferred on promotion so do NOT need to be set up on the standby. \n",
    "\n",
    "Variables:\n",
    "* `active_cert_path`: The path to active YBA's CA certificate\n",
    "* `standby_cert_path`: The path to standby YBA's CA certificate"
   ]
  },
  {
   "cell_type": "code",
   "execution_count": null,
   "metadata": {},
   "outputs": [],
   "source": [
    "# Add the certificates of BOTH active and standby to the active YBA\n",
    "# Either read certs from file or directly paste contents\n",
    "active_cert_path = os.getenv('YB_ACTIVE_CERT_PATH')\n",
    "standby_cert_path = os.getenv('YB_STANDBY_CERT_PATH')\n",
    "\n",
    "try:\n",
    "  with open(os.path.expanduser(active_cert_path), 'r') as active:\n",
    "    active_cert = active.read()\n",
    "  with open(os.path.expanduser(standby_cert_path), 'r') as standby:\n",
    "    standby_cert = standby.read()\n",
    "except Exception as e:\n",
    "  pprint(f\"An error occurred: {e}\")\n",
    "\n",
    "json_data_active = json.dumps({\"name\":\"active-cert\",\"contents\":active_cert})\n",
    "json_data_standby = json.dumps({\"name\": \"standby-cert\", \"contents\":standby_cert})\n",
    "\n",
    "custom_ca_url = f\"/api/v1/customers/{customer_uuid}/customCAStore\"\n",
    "conn.request(\"POST\", custom_ca_url, body=json_data_active, headers=headers)\n",
    "pprint(json.loads(conn.getresponse().read()))\n",
    "\n",
    "conn.request(\"POST\", custom_ca_url, body=json_data_standby, headers=headers)\n",
    "pprint(json.loads(conn.getresponse().read()))\n"
   ]
  },
  {
   "cell_type": "markdown",
   "metadata": {},
   "source": [
    "### HA Config Setup\n",
    "This section details all the API calls necessary to configure a valid active/standby HA pair. It uses the addresses specified in the first section.\n",
    "\n",
    "The replication frequency can be changed in the request body `frequency`. The default is set to 60000 milliseconds (1 minute)."
   ]
  },
  {
   "cell_type": "code",
   "execution_count": null,
   "metadata": {},
   "outputs": [],
   "source": [
    "# Generate HA authentication key used for both active and standby\n",
    "conn.request(\"GET\", \"/api/v1/settings/ha/generate_key\", headers=headers)\n",
    "cluster_key = json.loads(conn.getresponse().read())\n",
    "pprint(cluster_key)\n",
    "\n",
    "# Create config on active\n",
    "ha_config_url = \"/api/v1/settings/ha/config\"\n",
    "conn.request(\"POST\", ha_config_url, body=json.dumps(cluster_key), headers=headers)\n",
    "config_uuid = json.loads(conn.getresponse().read())['uuid']\n",
    "\n",
    "# Create config on standby\n",
    "standby_conn.request(\"POST\", ha_config_url, body=json.dumps(cluster_key), headers=standby_headers)\n",
    "standby_uuid = json.loads(standby_conn.getresponse().read())['uuid']\n",
    "\n",
    "# Create active YBA instance on active YBA\n",
    "active_instance_url = f\"/api/v1/settings/ha/config/{config_uuid}/instance\"\n",
    "https_active_address = f\"https://{platform_address}\"\n",
    "active_active_body = {\"address\":https_active_address, \"is_leader\": True, \"is_local\": True}\n",
    "conn.request(\"POST\", active_instance_url, body=json.dumps(active_active_body), headers=headers)\n",
    "pprint(json.loads(conn.getresponse().read()))\n",
    "\n",
    "# Create standby YBA instance on active YBA\n",
    "https_standby_address = f\"https://{standby_address}\"\n",
    "active_standby_body = {\"address\":https_standby_address, \"is_leader\": False, \"is_local\": False}\n",
    "conn.request(\"POST\", active_instance_url, body=json.dumps(active_standby_body), headers=headers)\n",
    "pprint(json.loads(conn.getresponse().read()))\n",
    "\n",
    "# Create standby YBA instance on standby YBA\n",
    "standby_instance_url = f\"/api/v1/settings/ha/config/{standby_uuid}/instance\"\n",
    "standby_standby_body = {\"address\":https_standby_address, \"is_leader\": False, \"is_local\": True}\n",
    "standby_conn.request(\"POST\", standby_instance_url, body=json.dumps(standby_standby_body), headers=standby_headers)\n",
    "standby_instance = json.loads(standby_conn.getresponse().read())\n",
    "pprint(standby_instance)\n",
    "\n",
    "# Create replication schedule\n",
    "schedule_url = f\"/api/v1/settings/ha/config/{config_uuid}/replication_schedule/start\"\n",
    "frequency = {\"frequency_milliseconds\": 60000}\n",
    "conn.request(\"PUT\", schedule_url, body=json.dumps(frequency), headers=headers)\n",
    "pprint(json.loads(conn.getresponse().read()))"
   ]
  },
  {
   "cell_type": "markdown",
   "metadata": {},
   "source": [
    "### HA Promotion\n",
    "This section describes how to promote a standby to an active (and internally will also demote the current active). If the active demotion does not work please follow the manual steps in the next section to manually demote the active instance. The standby config information is used from the previous section."
   ]
  },
  {
   "cell_type": "code",
   "execution_count": null,
   "metadata": {},
   "outputs": [],
   "source": [
    "standby_config_uuid = standby_instance['config_uuid']\n",
    "standby_instance_uuid = standby_instance['uuid']\n",
    "\n",
    "# Get the most recent backup\n",
    "backup_url = f\"/api/v1/settings/ha/config/{standby_config_uuid}/backup/list\"\n",
    "standby_conn.request(\"GET\", backup_url, headers=standby_headers)\n",
    "backup_list = json.loads(standby_conn.getresponse().read())\n",
    "recent_backup = backup_list[0]\n",
    "\n",
    "# Promote standby instance to active\n",
    "promote_url = f\"/api/v1/settings/ha/config/{standby_config_uuid}/instance/{standby_instance_uuid}/promote\"\n",
    "standby_conn.request(\"POST\", promote_url, body=json.dumps({\"backup_file\": recent_backup}), headers=standby_headers)\n",
    "pprint(standby_conn.getresponse().read())"
   ]
  },
  {
   "cell_type": "markdown",
   "metadata": {},
   "source": [
    "## Manual HA Demotion\n",
    "This section lists all of the steps necessary to manually demote an active instance. This is useful when the HA pair gets into an incorrect state with two running actives (highly dangerous).\n",
    "\n",
    "For simplicity sake we will assume that the previously defined standby is the \"true\" active and was succesfully promoted, but the original active is \"stale\" and needs to be demoted. The specific scenario may change based on your configuration, but the steps should be the same. \n",
    "1. Query the true active for the accurate last failover timestamp.\n",
    "2. Manually send demote request to stale active\n",
    "\n",
    "Note the leader_address body must be the full URL (including HTTPS) of the leader, similar to how the instance addresses were filled in above."
   ]
  },
  {
   "cell_type": "code",
   "execution_count": null,
   "metadata": {},
   "outputs": [],
   "source": [
    "# Find the last failover timestamp\n",
    "standby_conn.request(\"GET\", ha_config_url, headers=standby_headers)\n",
    "timestamp = json.loads(standby_conn.getresponse().read())[\"last_failover\"]\n",
    "\n",
    "# Send demote request to stale active identifying the new leader\n",
    "demote_url = f\"/api/v1/settings/ha/internal/config/demote/{timestamp}\"\n",
    "conn.request(\"POST\", demote_url, headers=headers, body=json.dumps({\"leader_address\": https_standby_address}))\n",
    "pprint(conn.getresponse().read())"
   ]
  }
 ],
 "metadata": {
  "kernelspec": {
   "display_name": "Python 3",
   "language": "python",
   "name": "python3"
  },
  "language_info": {
   "codemirror_mode": {
    "name": "ipython",
    "version": 3
   },
   "file_extension": ".py",
   "mimetype": "text/x-python",
   "name": "python",
   "nbconvert_exporter": "python",
   "pygments_lexer": "ipython3",
   "version": "3.8.13"
  }
 },
 "nbformat": 4,
 "nbformat_minor": 2
}
